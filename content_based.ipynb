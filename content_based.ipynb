{
 "cells": [
  {
   "cell_type": "code",
   "execution_count": 26,
   "id": "d7ba4bf1",
   "metadata": {},
   "outputs": [
    {
     "name": "stdout",
     "output_type": "stream",
     "text": [
      "Top 10 similar movies to [Battleship] are:\n",
      "\n",
      "Battleship\n",
      "The Helix... Loaded\n",
      "Lone Survivor\n",
      "Timecop\n",
      "Doomsday\n",
      "A Sound of Thunder\n",
      "John Carter\n",
      "Gamer\n",
      "The Covenant\n",
      "Green Lantern\n",
      "The Shadow\n"
     ]
    }
   ],
   "source": [
    "import pandas as pd\n",
    "import numpy as np\n",
    "from sklearn.feature_extraction.text import CountVectorizer\n",
    "from sklearn.metrics.pairwise import cosine_similarity\n",
    "###### helper functions. Use them when needed #######\n",
    "def get_title_from_index(index):\n",
    "\treturn df[df.index == index][\"title\"].values[0]\n",
    "\n",
    "def get_index_from_title(title):\n",
    "\treturn df[df.title == title][\"index\"].values[0]\n",
    "##################################################\n",
    "\n",
    "##Step 1: Read CSV File\n",
    "df = pd.read_csv(\"movie_dataset.csv\")\n",
    "#print(df.columns)\n",
    "##Step 2: Select Features\n",
    "\n",
    "features = ['keywords','cast','genres','director']\n",
    "##Step 3: Create a column in DF which combines all selected features\n",
    "for feature in features:\n",
    "\tdf[feature] = df[feature].fillna('')\n",
    "\n",
    "def combine_features(row):\n",
    "\ttry:\n",
    "\t\treturn row['keywords'] +\" \"+row['cast']+\" \"+row[\"genres\"]+\" \"+row[\"director\"]\n",
    "\texcept:\n",
    "\t\tprint(\"Error:\", row)\t\n",
    "\n",
    "df[\"combined_features\"] = df.apply(combine_features,axis=1)\n",
    "\n",
    "#print(\"Combined Features:\", df[\"combined_features\"].head())\n",
    "\n",
    "##Step 4: Create count matrix from this new combined column\n",
    "cv = CountVectorizer()\n",
    "\n",
    "count_matrix = cv.fit_transform(df[\"combined_features\"])\n",
    "\n",
    "##Step 5: Compute the Cosine Similarity based on the count_matrix\n",
    "cosine_sim = cosine_similarity(count_matrix) \n",
    "movie_user_likes = \"Battleship\"\n",
    "##print(\"If You watched \",movie_user_likes,\",then you also like these movies:\")\n",
    "\n",
    "## Step 6: Get index of this movie from its title\n",
    "movie_index = get_index_from_title(movie_user_likes)\n",
    "\n",
    "similar_movies =  list(enumerate(cosine_sim[movie_index]))\n",
    "\n",
    "## Step 7: Get a list of similar movies in descending order of similarity score\n",
    "sorted_similar_movies = sorted(similar_movies,key=lambda x:x[1],reverse=True)\n",
    "\n",
    "## Step 8: Print titles of first 10 movies\n",
    "i=0\n",
    "print(\"Top 10 similar movies to [\"+movie_user_likes+\"] are:\\n\")\n",
    "for element in sorted_similar_movies:\n",
    "\t\tprint(get_title_from_index(element[0]))\n",
    "\t\ti=i+1\n",
    "\t\tif i>10:\n",
    "\t\t\tbreak"
   ]
  },
  {
   "cell_type": "code",
   "execution_count": null,
   "id": "0c091ec5",
   "metadata": {},
   "outputs": [],
   "source": []
  }
 ],
 "metadata": {
  "kernelspec": {
   "display_name": "Python 3 (ipykernel)",
   "language": "python",
   "name": "python3"
  },
  "language_info": {
   "codemirror_mode": {
    "name": "ipython",
    "version": 3
   },
   "file_extension": ".py",
   "mimetype": "text/x-python",
   "name": "python",
   "nbconvert_exporter": "python",
   "pygments_lexer": "ipython3",
   "version": "3.11.5"
  }
 },
 "nbformat": 4,
 "nbformat_minor": 5
}
